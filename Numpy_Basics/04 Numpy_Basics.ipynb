{
 "cells": [
  {
   "cell_type": "markdown",
   "id": "878e89ed-8357-44d2-adee-2499176f2314",
   "metadata": {},
   "source": [
    "# Numpy data types"
   ]
  },
  {
   "cell_type": "code",
   "execution_count": 3,
   "id": "904c70aa-71cc-4581-ba12-cf19d8ad162e",
   "metadata": {},
   "outputs": [],
   "source": [
    "import numpy as np"
   ]
  },
  {
   "cell_type": "code",
   "execution_count": 7,
   "id": "a45f00e1-3053-4c0d-881e-82c3598f54ee",
   "metadata": {},
   "outputs": [
    {
     "name": "stdout",
     "output_type": "stream",
     "text": [
      "Data type: int32\n"
     ]
    }
   ],
   "source": [
    "var = np.array([1,2,3,4])\n",
    "print(\"Data type:\",var.dtype)"
   ]
  },
  {
   "cell_type": "code",
   "execution_count": 9,
   "id": "3f857e8f-baac-4606-97bd-b037ff9957ec",
   "metadata": {},
   "outputs": [
    {
     "name": "stdout",
     "output_type": "stream",
     "text": [
      "Data type: float64\n"
     ]
    }
   ],
   "source": [
    "var = np.array([1.0,2.23,3.2343,4.13123])\n",
    "print(\"Data type:\",var.dtype)"
   ]
  },
  {
   "cell_type": "code",
   "execution_count": 11,
   "id": "49ac2a8c-ca04-4ac2-891c-7b4a3b636734",
   "metadata": {},
   "outputs": [
    {
     "name": "stdout",
     "output_type": "stream",
     "text": [
      "Data type: <U1\n"
     ]
    }
   ],
   "source": [
    "var = np.array([\"a\", \"s\", \"d\", \"f\"])\n",
    "print(\"Data type:\",var.dtype)"
   ]
  },
  {
   "cell_type": "code",
   "execution_count": 13,
   "id": "690bd135-0dba-4577-96d4-f4c01eeda893",
   "metadata": {},
   "outputs": [
    {
     "name": "stdout",
     "output_type": "stream",
     "text": [
      "Data type: <U11\n"
     ]
    }
   ],
   "source": [
    "var = np.array([\"a\", \"s\", \"d\", 1, 2, 3])\n",
    "print(\"Data type:\",var.dtype)"
   ]
  },
  {
   "cell_type": "code",
   "execution_count": 23,
   "id": "629c0073-653d-41ad-ba35-331bd40671cf",
   "metadata": {},
   "outputs": [
    {
     "name": "stdout",
     "output_type": "stream",
     "text": [
      "Data type: int32\n",
      "Data type: int8\n",
      "Data type: float32\n"
     ]
    }
   ],
   "source": [
    "# Changing data type\n",
    "x = np.array([1,2,3,4])\n",
    "print(\"Data type:\",x.dtype)\n",
    "\n",
    "x = np.array([1,2,3,4], dtype = np.int8)\n",
    "print(\"Data type:\",x.dtype)\n",
    "\n",
    "# Shortcut \n",
    "x = np.array([1,2,3,4], dtype = \"f\")\n",
    "print(\"Data type:\",x.dtype)\n"
   ]
  },
  {
   "cell_type": "code",
   "execution_count": 29,
   "id": "fefcdfdb-f3b5-4102-87f7-9fd6825979f3",
   "metadata": {},
   "outputs": [
    {
     "name": "stdout",
     "output_type": "stream",
     "text": [
      "Data type: int32\n",
      "Data type: float32\n",
      "[1 2 3 4]\n",
      "[1. 2. 3. 4.]\n"
     ]
    }
   ],
   "source": [
    "# Using as a function\n",
    "x1 = np.array([1,2,3,4])\n",
    "new  = np.float32(x1)\n",
    "\n",
    "print(\"Data type:\",x1.dtype)\n",
    "print(\"Data type:\",new.dtype)\n",
    "\n",
    "print(x1)\n",
    "print(new)"
   ]
  },
  {
   "cell_type": "code",
   "execution_count": 33,
   "id": "f83c9966-8631-49c1-8ce5-7d6736581644",
   "metadata": {},
   "outputs": [
    {
     "name": "stdout",
     "output_type": "stream",
     "text": [
      "Data type: int32\n",
      "Data type: float32\n",
      "Data type: int32\n",
      "[1 2 3 4]\n",
      "[1. 2. 3. 4.]\n",
      "[1 2 3 4]\n"
     ]
    }
   ],
   "source": [
    "# Using as a function\n",
    "x1 = np.array([1,2,3,4])\n",
    "new  = np.float32(x1)\n",
    "new1 = np.int_(new)\n",
    "\n",
    "print(\"Data type:\",x1.dtype)\n",
    "print(\"Data type:\",new.dtype)\n",
    "print(\"Data type:\",new1.dtype)\n",
    "\n",
    "print(x1)\n",
    "print(new)\n",
    "print(new1)\n"
   ]
  },
  {
   "cell_type": "code",
   "execution_count": 35,
   "id": "684fa197-675b-4ffa-912c-6fe5c1ee546e",
   "metadata": {},
   "outputs": [
    {
     "name": "stdout",
     "output_type": "stream",
     "text": [
      "[1 2 3 4]\n",
      "[1. 2. 3. 4.]\n"
     ]
    }
   ],
   "source": [
    "# Directly changing type\n",
    "x3 = np.array([1,2,3,4])\n",
    "new2 = x3.astype(float)\n",
    "print(x3)\n",
    "print(new2)"
   ]
  },
  {
   "cell_type": "code",
   "execution_count": null,
   "id": "29b259aa-1dc4-46e4-8ef8-331e3d0d9f96",
   "metadata": {},
   "outputs": [],
   "source": []
  }
 ],
 "metadata": {
  "kernelspec": {
   "display_name": "Python 3 (ipykernel)",
   "language": "python",
   "name": "python3"
  },
  "language_info": {
   "codemirror_mode": {
    "name": "ipython",
    "version": 3
   },
   "file_extension": ".py",
   "mimetype": "text/x-python",
   "name": "python",
   "nbconvert_exporter": "python",
   "pygments_lexer": "ipython3",
   "version": "3.12.4"
  }
 },
 "nbformat": 4,
 "nbformat_minor": 5
}
