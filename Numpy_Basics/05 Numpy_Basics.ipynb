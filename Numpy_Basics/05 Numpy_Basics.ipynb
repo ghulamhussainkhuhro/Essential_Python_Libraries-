{
 "cells": [
  {
   "cell_type": "markdown",
   "id": "e4808ba9-b4ed-4d0d-9d34-e400864c7e2a",
   "metadata": {},
   "source": [
    "# Arithmetic Operations in NumPy"
   ]
  },
  {
   "cell_type": "code",
   "execution_count": 3,
   "id": "ef0ebba9-1e8b-4ab5-95f2-fbf8e71a566f",
   "metadata": {},
   "outputs": [],
   "source": [
    "import numpy as np"
   ]
  },
  {
   "cell_type": "code",
   "execution_count": 25,
   "id": "46b6bc03-aa1f-4e80-9f26-d1d1fe4c7ded",
   "metadata": {},
   "outputs": [
    {
     "name": "stdout",
     "output_type": "stream",
     "text": [
      "[1 2 3 4]\n",
      "[4 5 6 7]\n"
     ]
    }
   ],
   "source": [
    "# By using arithmetic operators\n",
    "var = np.array([1,2,3,4])\n",
    "var_add = var + 3\n",
    "print(var)\n",
    "print(var_add)"
   ]
  },
  {
   "cell_type": "code",
   "execution_count": 27,
   "id": "ea0aebe2-bd03-4e75-ae0d-c15d2dbb6052",
   "metadata": {},
   "outputs": [
    {
     "name": "stdout",
     "output_type": "stream",
     "text": [
      "[1 2 3 4]\n",
      "[4 5 6 7]\n"
     ]
    }
   ],
   "source": [
    "# By using numpy function\n",
    "var = np.array([1,2,3,4])\n",
    "var_add = np.add(var, 3)\n",
    "print(var)\n",
    "print(var_add)"
   ]
  },
  {
   "cell_type": "code",
   "execution_count": 29,
   "id": "3fa38c0a-1d21-4334-bcc5-7437e8b407cb",
   "metadata": {},
   "outputs": [
    {
     "name": "stdout",
     "output_type": "stream",
     "text": [
      "[1 2 3 4] + [1 2 3 4] = [2 4 6 8]\n",
      "[1 2 3 4] - [1 2 3 4] = [0 0 0 0]\n",
      "[1 2 3 4] * [1 2 3 4] = [ 1  4  9 16]\n",
      "[1 2 3 4] / [1 2 3 4] = [1. 1. 1. 1.]\n",
      "[1 2 3 4] ** [1 2 3 4] = [  1   4  27 256]\n",
      "[1 2 3 4] % [1 2 3 4] = [0 0 0 0]\n",
      "1 / [1 2 3 4] = [1.         0.5        0.33333333 0.25      ]\n"
     ]
    }
   ],
   "source": [
    "# By using arithmetic operators\n",
    "var1 = np.array([1,2,3,4])\n",
    "var2 = np.array([1,2,3,4])\n",
    "var_add = var1 + var2\n",
    "var_sub = var1 - var2\n",
    "var_mul = var1 * var2\n",
    "var_div = var1 / var2\n",
    "var_pow = var1 ** var2\n",
    "var_mod = var1 % var2\n",
    "var_reciprocal = 1 / var1\n",
    "print(var1,\"+\",var2,\"=\",var_add)\n",
    "print(var1,\"-\",var2,\"=\",var_sub)\n",
    "print(var1,\"*\",var2,\"=\",var_mul)\n",
    "print(var1,\"/\",var2,\"=\",var_div)\n",
    "print(var1,\"**\",var2,\"=\",var_pow)\n",
    "print(var1,\"%\",var2,\"=\",var_mod)\n",
    "print(1,\"/\",var1,\"=\",var_reciprocal)\n",
    "\n"
   ]
  },
  {
   "cell_type": "code",
   "execution_count": 31,
   "id": "9dd7e984-5bb3-4ec5-b0a7-329d90410919",
   "metadata": {},
   "outputs": [
    {
     "name": "stdout",
     "output_type": "stream",
     "text": [
      "[1 2 3 4] + [1 2 3 4] = [2 4 6 8]\n",
      "[1 2 3 4] - [1 2 3 4] = [0 0 0 0]\n",
      "[1 2 3 4] * [1 2 3 4] = [ 1  4  9 16]\n",
      "[1 2 3 4] / [1 2 3 4] = [1. 1. 1. 1.]\n",
      "[1 2 3 4] ** [1 2 3 4] = [  1   4  27 256]\n",
      "[1 2 3 4] % [1 2 3 4] = [0 0 0 0]\n",
      "1 / [1 2 3 4] = [1 0 0 0]\n"
     ]
    }
   ],
   "source": [
    "# By using numpy functions\n",
    "var1 = np.array([1,2,3,4])\n",
    "var2 = np.array([1,2,3,4])\n",
    "var_add = np.add(var1, var2)\n",
    "var_sub = np.subtract(var1, var2)\n",
    "var_mul = np.multiply(var1, var2)\n",
    "var_div = np.divide(var1, var2)\n",
    "var_pow = np.power(var1, var2)\n",
    "var_mod = np.mod(var1, var2)\n",
    "var_reciprocal = np.reciprocal(var1)\n",
    "print(var1,\"+\",var2,\"=\",var_add)\n",
    "print(var1,\"-\",var2,\"=\",var_sub)\n",
    "print(var1,\"*\",var2,\"=\",var_mul)\n",
    "print(var1,\"/\",var2,\"=\",var_div)\n",
    "print(var1,\"**\",var2,\"=\",var_pow)\n",
    "print(var1,\"%\",var2,\"=\",var_mod)\n",
    "print(1,\"/\",var1,\"=\",var_reciprocal)\n",
    "\n"
   ]
  },
  {
   "cell_type": "markdown",
   "id": "1dafd6f9-913b-4113-aafd-b6599a8e4964",
   "metadata": {},
   "source": [
    "# Arithmetic Operations on Numpy 2D arrays"
   ]
  },
  {
   "cell_type": "code",
   "execution_count": 38,
   "id": "ec6d4d26-9b8a-4cdb-a322-6e43ec47b00e",
   "metadata": {},
   "outputs": [
    {
     "name": "stdout",
     "output_type": "stream",
     "text": [
      "[[1 2 3 4]\n",
      " [1 2 3 4]]\n",
      "[[4 5 6 7]\n",
      " [4 5 6 7]]\n"
     ]
    }
   ],
   "source": [
    "# By using arithmetic operators\n",
    "var = np.array([[1,2,3,4],[1,2,3,4]])\n",
    "var_add = var + 3\n",
    "print(var)\n",
    "print(var_add)"
   ]
  },
  {
   "cell_type": "code",
   "execution_count": 40,
   "id": "869ce0c2-4e94-46a8-8d14-ab7c9496a986",
   "metadata": {},
   "outputs": [
    {
     "name": "stdout",
     "output_type": "stream",
     "text": [
      "[[1 2 3 4]\n",
      " [1 2 3 4]]\n",
      "[[4 5 6 7]\n",
      " [4 5 6 7]]\n"
     ]
    }
   ],
   "source": [
    "# By using numpy function\n",
    "var = np.array([[1,2,3,4],[1,2,3,4]])\n",
    "var_add = np.add(var, 3)\n",
    "print(var)\n",
    "print(var_add)"
   ]
  },
  {
   "cell_type": "code",
   "execution_count": 34,
   "id": "9ac238f1-6fb9-460f-8dcd-b557c7423706",
   "metadata": {},
   "outputs": [
    {
     "name": "stdout",
     "output_type": "stream",
     "text": [
      "[[1 2 3 4]\n",
      " [1 2 3 4]] + [[1 2 3 4]\n",
      " [1 2 3 4]] = [[2 4 6 8]\n",
      " [2 4 6 8]]\n",
      "[[1 2 3 4]\n",
      " [1 2 3 4]] - [[1 2 3 4]\n",
      " [1 2 3 4]] = [[0 0 0 0]\n",
      " [0 0 0 0]]\n",
      "[[1 2 3 4]\n",
      " [1 2 3 4]] * [[1 2 3 4]\n",
      " [1 2 3 4]] = [[ 1  4  9 16]\n",
      " [ 1  4  9 16]]\n",
      "[[1 2 3 4]\n",
      " [1 2 3 4]] / [[1 2 3 4]\n",
      " [1 2 3 4]] = [[1. 1. 1. 1.]\n",
      " [1. 1. 1. 1.]]\n",
      "[[1 2 3 4]\n",
      " [1 2 3 4]] ** [[1 2 3 4]\n",
      " [1 2 3 4]] = [[  1   4  27 256]\n",
      " [  1   4  27 256]]\n",
      "[[1 2 3 4]\n",
      " [1 2 3 4]] % [[1 2 3 4]\n",
      " [1 2 3 4]] = [[0 0 0 0]\n",
      " [0 0 0 0]]\n",
      "1 / [[1 2 3 4]\n",
      " [1 2 3 4]] = [[1.         0.5        0.33333333 0.25      ]\n",
      " [1.         0.5        0.33333333 0.25      ]]\n"
     ]
    }
   ],
   "source": [
    "# By using arithmetic operators\n",
    "var1 = np.array([[1,2,3,4],[1,2,3,4]])\n",
    "var2 = np.array([[1,2,3,4],[1,2,3,4]])\n",
    "var_add = var1 + var2\n",
    "var_sub = var1 - var2\n",
    "var_mul = var1 * var2\n",
    "var_div = var1 / var2\n",
    "var_pow = var1 ** var2\n",
    "var_mod = var1 % var2\n",
    "var_reciprocal = 1 / var1\n",
    "print(var1,\"+\",var2,\"=\",var_add)\n",
    "print(var1,\"-\",var2,\"=\",var_sub)\n",
    "print(var1,\"*\",var2,\"=\",var_mul)\n",
    "print(var1,\"/\",var2,\"=\",var_div)\n",
    "print(var1,\"**\",var2,\"=\",var_pow)\n",
    "print(var1,\"%\",var2,\"=\",var_mod)\n",
    "print(1,\"/\",var1,\"=\",var_reciprocal)\n",
    "\n"
   ]
  },
  {
   "cell_type": "code",
   "execution_count": 36,
   "id": "2f4c3f92-88ce-4775-b4e7-37652d2fe95a",
   "metadata": {},
   "outputs": [
    {
     "name": "stdout",
     "output_type": "stream",
     "text": [
      "[[1 2 3 4]\n",
      " [1 2 3 4]] + [[1 2 3 4]\n",
      " [1 2 3 4]] = [[2 4 6 8]\n",
      " [2 4 6 8]]\n",
      "[[1 2 3 4]\n",
      " [1 2 3 4]] - [[1 2 3 4]\n",
      " [1 2 3 4]] = [[0 0 0 0]\n",
      " [0 0 0 0]]\n",
      "[[1 2 3 4]\n",
      " [1 2 3 4]] * [[1 2 3 4]\n",
      " [1 2 3 4]] = [[ 1  4  9 16]\n",
      " [ 1  4  9 16]]\n",
      "[[1 2 3 4]\n",
      " [1 2 3 4]] / [[1 2 3 4]\n",
      " [1 2 3 4]] = [[1. 1. 1. 1.]\n",
      " [1. 1. 1. 1.]]\n",
      "[[1 2 3 4]\n",
      " [1 2 3 4]] ** [[1 2 3 4]\n",
      " [1 2 3 4]] = [[  1   4  27 256]\n",
      " [  1   4  27 256]]\n",
      "[[1 2 3 4]\n",
      " [1 2 3 4]] % [[1 2 3 4]\n",
      " [1 2 3 4]] = [[0 0 0 0]\n",
      " [0 0 0 0]]\n",
      "1 / [[1 2 3 4]\n",
      " [1 2 3 4]] = [[1 0 0 0]\n",
      " [1 0 0 0]]\n"
     ]
    }
   ],
   "source": [
    "# By using numpy functions\n",
    "var1 = np.array([[1,2,3,4],[1,2,3,4]])\n",
    "var2 = np.array([[1,2,3,4],[1,2,3,4]])\n",
    "var_add = np.add(var1, var2)\n",
    "var_sub = np.subtract(var1, var2)\n",
    "var_mul = np.multiply(var1, var2)\n",
    "var_div = np.divide(var1, var2)\n",
    "var_pow = np.power(var1, var2)\n",
    "var_mod = np.mod(var1, var2)\n",
    "var_reciprocal = np.reciprocal(var1)\n",
    "print(var1,\"+\",var2,\"=\",var_add)\n",
    "print(var1,\"-\",var2,\"=\",var_sub)\n",
    "print(var1,\"*\",var2,\"=\",var_mul)\n",
    "print(var1,\"/\",var2,\"=\",var_div)\n",
    "print(var1,\"**\",var2,\"=\",var_pow)\n",
    "print(var1,\"%\",var2,\"=\",var_mod)\n",
    "print(1,\"/\",var1,\"=\",var_reciprocal)\n"
   ]
  },
  {
   "cell_type": "code",
   "execution_count": null,
   "id": "8845e259-8715-432c-8363-a4b660ab7f15",
   "metadata": {},
   "outputs": [],
   "source": []
  }
 ],
 "metadata": {
  "kernelspec": {
   "display_name": "Python 3 (ipykernel)",
   "language": "python",
   "name": "python3"
  },
  "language_info": {
   "codemirror_mode": {
    "name": "ipython",
    "version": 3
   },
   "file_extension": ".py",
   "mimetype": "text/x-python",
   "name": "python",
   "nbconvert_exporter": "python",
   "pygments_lexer": "ipython3",
   "version": "3.12.4"
  }
 },
 "nbformat": 4,
 "nbformat_minor": 5
}
