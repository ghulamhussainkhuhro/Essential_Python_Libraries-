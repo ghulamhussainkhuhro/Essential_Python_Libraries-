{
 "cells": [
  {
   "cell_type": "code",
   "execution_count": 1,
   "id": "de07a59e-58c0-4606-a76a-9765037f1e7c",
   "metadata": {},
   "outputs": [],
   "source": [
    "import numpy as np"
   ]
  },
  {
   "cell_type": "code",
   "execution_count": 2,
   "id": "092bfcde-c9ab-4ff5-8e0e-242149fb0567",
   "metadata": {},
   "outputs": [
    {
     "name": "stdout",
     "output_type": "stream",
     "text": [
      "Numpy array : [1 2 3 4]\n",
      "Type : <class 'numpy.ndarray'>\n"
     ]
    }
   ],
   "source": [
    "# Creating a numpy array\n",
    "x = np.array([1,2,3,4])\n",
    "print(\"Numpy array :\",x)\n",
    "print(\"Type :\",type(x))"
   ]
  },
  {
   "cell_type": "code",
   "execution_count": 7,
   "id": "b51bebff-c375-4a6f-bab9-12e95afed15d",
   "metadata": {},
   "outputs": [
    {
     "name": "stdout",
     "output_type": "stream",
     "text": [
      "Normal list: [1, 2, 3, 4]\n",
      "Type : <class 'list'>\n"
     ]
    }
   ],
   "source": [
    "# Creating a list\n",
    "x = [1,2,3,4]\n",
    "print(\"Normal list:\",x)\n",
    "print(\"Type :\",type(x))"
   ]
  },
  {
   "cell_type": "markdown",
   "id": "4653b90a-2d50-408c-b8ef-0e92e3240bc1",
   "metadata": {},
   "source": [
    "# Time for creating a list and a numpy array"
   ]
  },
  {
   "cell_type": "code",
   "execution_count": 14,
   "id": "c7178024-edcf-4dac-bcf8-10ff8526132b",
   "metadata": {},
   "outputs": [
    {
     "name": "stdout",
     "output_type": "stream",
     "text": [
      "174 μs ± 15.3 μs per loop (mean ± std. dev. of 7 runs, 1,000 loops each)\n"
     ]
    }
   ],
   "source": [
    "%timeit [j**4 for j in range(1,1000)]"
   ]
  },
  {
   "cell_type": "code",
   "execution_count": 16,
   "id": "2dde2da8-af69-4ecb-a8fa-a0be9504febb",
   "metadata": {},
   "outputs": [
    {
     "name": "stdout",
     "output_type": "stream",
     "text": [
      "7.88 μs ± 266 ns per loop (mean ± std. dev. of 7 runs, 100,000 loops each)\n"
     ]
    }
   ],
   "source": [
    "%timeit np.arange(1,1000)**4"
   ]
  },
  {
   "cell_type": "code",
   "execution_count": 32,
   "id": "26f5527f-2847-4ab0-9b5a-2ea8dad62b8f",
   "metadata": {},
   "outputs": [
    {
     "name": "stdin",
     "output_type": "stream",
     "text": [
      "Please enter an integer :  1\n",
      "Please enter an integer :  2\n",
      "Please enter an integer :  3\n",
      "Please enter an integer :  4\n",
      "Please enter an integer :  4\n"
     ]
    },
    {
     "name": "stdout",
     "output_type": "stream",
     "text": [
      "The list of integers you entered is : [1, 2, 3, 4, 4]\n",
      "Type : <class 'list'>\n",
      "Converting to an array...\n",
      "Array created : [1 2 3 4 4]\n",
      "Type : <class 'numpy.ndarray'>\n",
      "Dimensions :  1\n"
     ]
    }
   ],
   "source": [
    "# Taking input from user and creating an array\n",
    "l = []\n",
    "for i in range(1,6):\n",
    "    x = int(input(\"Please enter an integer : \"))\n",
    "    l.append(x)\n",
    "print(\"The list of integers you entered is :\",l)\n",
    "print(\"Type :\",type(l))\n",
    "print(\"Converting to an array...\")\n",
    "x = np.array(l)\n",
    "print(\"Array created :\",x)\n",
    "print(\"Type :\",type(x))\n",
    "print(\"Dimensions : \",x.ndim) # Ndim is used to find the dimensions of  numpy array"
   ]
  },
  {
   "cell_type": "code",
   "execution_count": 52,
   "id": "79dd2815-1c7e-4557-811d-e1bfacc19e49",
   "metadata": {},
   "outputs": [
    {
     "name": "stdout",
     "output_type": "stream",
     "text": [
      "[[1 2 3]\n",
      " [4 5 6]]\n",
      "Type : <class 'numpy.ndarray'>\n",
      "Dimensions :  2\n"
     ]
    }
   ],
   "source": [
    "# 2 dimensional array:\n",
    "ar2 = np.array([[1,2,3],[4,5,6]]) # Number of entries or elements must be same of the inner lists\n",
    "print(ar2)\n",
    "print(\"Type :\",type(ar2))\n",
    "print(\"Dimensions : \",ar2.ndim)"
   ]
  },
  {
   "cell_type": "code",
   "execution_count": 64,
   "id": "b4ea7f56-9c6d-46ee-a628-1068e572b1e9",
   "metadata": {},
   "outputs": [
    {
     "name": "stdout",
     "output_type": "stream",
     "text": [
      "[[[1 2 3]\n",
      "  [4 5 6]]\n",
      "\n",
      " [[1 2 3]\n",
      "  [4 5 6]]]\n",
      "Type : <class 'numpy.ndarray'>\n",
      "Dimensions :  3\n"
     ]
    }
   ],
   "source": [
    "# 3 dimensional array:\n",
    "ar3 = np.array([[[1,2,3],[4,5,6]],[[1,2,3],[4,5,6]]]) # Number of entries or elements must be same of the inner lists\n",
    "print(ar3)\n",
    "print(\"Type :\",type(ar3))\n",
    "print(\"Dimensions : \",ar3.ndim)\n",
    "# In similar way we can make n dimensional arrays"
   ]
  },
  {
   "cell_type": "code",
   "execution_count": 68,
   "id": "d861efbc-967e-40b6-b81a-d98a9ba33250",
   "metadata": {},
   "outputs": [
    {
     "name": "stdout",
     "output_type": "stream",
     "text": [
      "[[[[[[[[[[1 2 3 4]]]]]]]]]]\n",
      "Type : <class 'numpy.ndarray'>\n",
      "Dimensions :  10\n"
     ]
    }
   ],
   "source": [
    "# n dimensional array\n",
    "arn = np.array([1,2,3,4], ndmin = 10)\n",
    "print(arn)\n",
    "print(\"Type :\",type(arn))\n",
    "print(\"Dimensions : \",arn.ndim)"
   ]
  },
  {
   "cell_type": "code",
   "execution_count": null,
   "id": "b7776785-06d6-4017-a17c-163e3861fc1a",
   "metadata": {},
   "outputs": [],
   "source": []
  }
 ],
 "metadata": {
  "kernelspec": {
   "display_name": "Python 3 (ipykernel)",
   "language": "python",
   "name": "python3"
  },
  "language_info": {
   "codemirror_mode": {
    "name": "ipython",
    "version": 3
   },
   "file_extension": ".py",
   "mimetype": "text/x-python",
   "name": "python",
   "nbconvert_exporter": "python",
   "pygments_lexer": "ipython3",
   "version": "3.12.3"
  }
 },
 "nbformat": 4,
 "nbformat_minor": 5
}
