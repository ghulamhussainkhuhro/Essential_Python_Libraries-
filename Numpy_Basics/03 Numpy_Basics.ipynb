{
 "cells": [
  {
   "cell_type": "markdown",
   "id": "8ee011ef-e975-4f5d-b245-9668742cceef",
   "metadata": {},
   "source": [
    "# Creating numpy array with random numbers"
   ]
  },
  {
   "cell_type": "code",
   "execution_count": null,
   "id": "e5ff7865-d258-47c9-81a3-b2a3682909ee",
   "metadata": {},
   "outputs": [],
   "source": []
  },
  {
   "cell_type": "code",
   "execution_count": 2,
   "id": "69bbf815-d374-4569-98a1-47cc2f5a5158",
   "metadata": {},
   "outputs": [],
   "source": [
    "import numpy as np"
   ]
  },
  {
   "cell_type": "code",
   "execution_count": 10,
   "id": "3c16d91b-9c63-47f2-b3c4-ecf5dbddf614",
   "metadata": {},
   "outputs": [],
   "source": [
    "# rand(): is used to generate random values between 1 and 0\n",
    "# randn(): is used to generate random numbers close to 0 they may be positive or negative\n",
    "# ranf(): is used for doing random sampling in numpy . it returns an array of specified shape \n",
    "#         and fills it with floats in the half open interval [0.0, 1.0)\n",
    "# randint(): is ussed to generate random numbers between a given range"
   ]
  },
  {
   "cell_type": "markdown",
   "id": "b680b3a3-9e22-4362-868d-e9bde5d0c792",
   "metadata": {},
   "source": [
    "# rand()"
   ]
  },
  {
   "cell_type": "code",
   "execution_count": 25,
   "id": "791f59b4-c514-49e7-95a4-49df73276b74",
   "metadata": {},
   "outputs": [
    {
     "name": "stdout",
     "output_type": "stream",
     "text": [
      "[0.78523066 0.01168012 0.05972767 0.88205347 0.27761859 0.06490636\n",
      " 0.96071435 0.40943912 0.93277663 0.06791773]\n"
     ]
    }
   ],
   "source": [
    "# rand(): is used to generate random values between 1 and 0\n",
    "var = np.random.rand(10) # as rand() is function of random module\n",
    "print(var)\n"
   ]
  },
  {
   "cell_type": "code",
   "execution_count": 18,
   "id": "226e0857-e272-426b-a7b4-bfff0a1a9051",
   "metadata": {},
   "outputs": [
    {
     "name": "stdout",
     "output_type": "stream",
     "text": [
      "[[0.56928377 0.53233113 0.98330465 0.47111119 0.82401753]\n",
      " [0.51864566 0.66978952 0.09422052 0.00868025 0.40546207]]\n"
     ]
    }
   ],
   "source": [
    "var1 = np.random.rand(2,5) # 2d array with 2 rows and 5 columns\n",
    "print(var1)"
   ]
  },
  {
   "cell_type": "markdown",
   "id": "e390e4f9-e437-48ef-b5e2-d207167559e5",
   "metadata": {},
   "source": [
    "# randn()"
   ]
  },
  {
   "cell_type": "code",
   "execution_count": 23,
   "id": "4ea29b8d-0580-47bf-8bf2-ae2e8a4e5540",
   "metadata": {},
   "outputs": [
    {
     "name": "stdout",
     "output_type": "stream",
     "text": [
      "[ 1.2596067  -1.30777573  0.50802013 -1.26521872  0.31550602 -1.90137395\n",
      "  0.68768352 -0.00404072  0.04896471 -1.13464359]\n"
     ]
    }
   ],
   "source": [
    "# randn(): is used to generate random numbers close to 0 they may be positive or negative\n",
    "var3 = np.random.randn(10)\n",
    "print(var3)"
   ]
  },
  {
   "cell_type": "markdown",
   "id": "56dfaaeb-a851-494e-a24d-2edad852f8dd",
   "metadata": {},
   "source": [
    "# randf()"
   ]
  },
  {
   "cell_type": "code",
   "execution_count": 30,
   "id": "ed60e403-66e7-4844-95e8-70e988c984b9",
   "metadata": {},
   "outputs": [
    {
     "name": "stdout",
     "output_type": "stream",
     "text": [
      "[0.53458918 0.80886975 0.66137676 0.45703211 0.67386803 0.24489155\n",
      " 0.17125522 0.00776489 0.54502212 0.23827312]\n"
     ]
    }
   ],
   "source": [
    "# ranf(): is used for doing random sampling in numpy . it returns an array of specified shape \n",
    "#         and fills it with floats in the half open interval [0.0, 1.0) 1 is not included while 0 is included\n",
    "\n",
    "var4  = np.random.rand(10)\n",
    "print(var4)"
   ]
  },
  {
   "cell_type": "markdown",
   "id": "e9e1b4e5-1050-4e51-a1e0-31907f9beb22",
   "metadata": {},
   "source": [
    "# randint()"
   ]
  },
  {
   "cell_type": "code",
   "execution_count": 37,
   "id": "1f5806d5-0254-4aa4-8b45-72362bbb7740",
   "metadata": {},
   "outputs": [
    {
     "name": "stdout",
     "output_type": "stream",
     "text": [
      "[13 16 10 14 14 10  6  7  6  9]\n"
     ]
    }
   ],
   "source": [
    "# randint(): is ussed to generate random numbers between a given range\n",
    "var5 = np.random.randint(5,20,10) # randint(min, max, total_numbers)\n",
    "print(var5)"
   ]
  },
  {
   "cell_type": "code",
   "execution_count": null,
   "id": "88406864-307a-44c3-b11f-07915eea61be",
   "metadata": {},
   "outputs": [],
   "source": []
  }
 ],
 "metadata": {
  "kernelspec": {
   "display_name": "Python 3 (ipykernel)",
   "language": "python",
   "name": "python3"
  },
  "language_info": {
   "codemirror_mode": {
    "name": "ipython",
    "version": 3
   },
   "file_extension": ".py",
   "mimetype": "text/x-python",
   "name": "python",
   "nbconvert_exporter": "python",
   "pygments_lexer": "ipython3",
   "version": "3.12.4"
  }
 },
 "nbformat": 4,
 "nbformat_minor": 5
}
