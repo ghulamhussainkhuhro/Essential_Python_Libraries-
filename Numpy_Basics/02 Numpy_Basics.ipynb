{
 "cells": [
  {
   "cell_type": "code",
   "execution_count": 1,
   "id": "379024c2-4479-4da7-9f46-f4432359588f",
   "metadata": {},
   "outputs": [],
   "source": [
    "import numpy as np"
   ]
  },
  {
   "cell_type": "markdown",
   "id": "d5a23eaf-5e8e-49bd-bebb-7d583252bc58",
   "metadata": {},
   "source": [
    "# zeros()"
   ]
  },
  {
   "cell_type": "code",
   "execution_count": 3,
   "id": "81688b62-505f-4e28-b25d-61c425177554",
   "metadata": {},
   "outputs": [
    {
     "name": "stdout",
     "output_type": "stream",
     "text": [
      "[0. 0. 0. 0.]\n"
     ]
    }
   ],
   "source": [
    "# Creating 1 dimensional array with all elements 0\n",
    "zeros = np.zeros(4)\n",
    "print(zeros)"
   ]
  },
  {
   "cell_type": "code",
   "execution_count": 5,
   "id": "2bdf7f81-5bf1-494a-ba76-7ad66e0fef9c",
   "metadata": {},
   "outputs": [
    {
     "name": "stdout",
     "output_type": "stream",
     "text": [
      "[[0. 0. 0. 0.]\n",
      " [0. 0. 0. 0.]\n",
      " [0. 0. 0. 0.]]\n"
     ]
    }
   ],
   "source": [
    "# Creating 2 dimensional array with all elements 0\n",
    "zeros1 = np.zeros((3,4)) # With 3 rows and 4 columns\n",
    "print(zeros1)"
   ]
  },
  {
   "cell_type": "markdown",
   "id": "0b2a1b82-c8bc-4c72-803c-209f55728a36",
   "metadata": {},
   "source": [
    "# ones()"
   ]
  },
  {
   "cell_type": "code",
   "execution_count": 9,
   "id": "49613610-80ce-4529-b678-26e52025acbe",
   "metadata": {},
   "outputs": [
    {
     "name": "stdout",
     "output_type": "stream",
     "text": [
      "[1. 1. 1. 1.]\n"
     ]
    }
   ],
   "source": [
    "# Creating 1 dimensional array with all elements 1\n",
    "ar_one = np.ones(4)\n",
    "print(ar_one)"
   ]
  },
  {
   "cell_type": "code",
   "execution_count": 11,
   "id": "bf5ab871-0948-41c1-b40a-298f390bcd1a",
   "metadata": {},
   "outputs": [
    {
     "name": "stdout",
     "output_type": "stream",
     "text": [
      "[[1. 1. 1. 1.]\n",
      " [1. 1. 1. 1.]\n",
      " [1. 1. 1. 1.]]\n"
     ]
    }
   ],
   "source": [
    "# Creating 1 dimensional array with all elements 1\n",
    "ar_one = np.ones((3,4))\n",
    "print(ar_one)"
   ]
  },
  {
   "cell_type": "markdown",
   "id": "c12a5f9b-a139-4a67-a221-30c6e5b786e8",
   "metadata": {},
   "source": [
    "# Creating an empty array"
   ]
  },
  {
   "cell_type": "code",
   "execution_count": 16,
   "id": "6dea6c1b-e799-4fd8-9e4d-afcd0874081d",
   "metadata": {},
   "outputs": [
    {
     "name": "stdout",
     "output_type": "stream",
     "text": [
      "Empty array with vacany of 4 elements :  [1. 1. 1. 1.]\n"
     ]
    }
   ],
   "source": [
    "emp_array = np.empty(4)\n",
    "print(\"Empty array with vacany of 4 elements : \",emp_array) \n",
    "# you will see that there are 1s in array it is because previous values are assigned to empty array"
   ]
  },
  {
   "cell_type": "markdown",
   "id": "81b31ac0-14eb-484b-8e46-0c848a9e258d",
   "metadata": {},
   "source": [
    "# Creating an array with range of elements with arrange()"
   ]
  },
  {
   "cell_type": "code",
   "execution_count": 22,
   "id": "d3cc4a35-470a-4903-b0ce-707071c86ffa",
   "metadata": {},
   "outputs": [
    {
     "name": "stdout",
     "output_type": "stream",
     "text": [
      "[0 1 2 3]\n"
     ]
    }
   ],
   "source": [
    "range_array = np.arange(4)\n",
    "print(range_array)"
   ]
  },
  {
   "cell_type": "code",
   "execution_count": 26,
   "id": "10ce266e-f812-4172-bd32-20738c1b6a65",
   "metadata": {},
   "outputs": [
    {
     "name": "stdout",
     "output_type": "stream",
     "text": [
      "[ 0  2  4  6  8 10]\n"
     ]
    }
   ],
   "source": [
    "range_array = np.arange(0,11,2)\n",
    "print(range_array)"
   ]
  },
  {
   "cell_type": "markdown",
   "id": "497b981f-55ae-4d26-b1a3-f790bd7c3bdc",
   "metadata": {},
   "source": [
    "# Array with diagonal elements = 1 with eye()"
   ]
  },
  {
   "cell_type": "code",
   "execution_count": 32,
   "id": "9436e4e1-26ea-4d36-9a88-da8e525462b4",
   "metadata": {},
   "outputs": [
    {
     "name": "stdout",
     "output_type": "stream",
     "text": [
      "[[1. 0. 0.]\n",
      " [0. 1. 0.]\n",
      " [0. 0. 1.]]\n"
     ]
    }
   ],
   "source": [
    "diag_array = np.eye(3)\n",
    "print(diag_array)"
   ]
  },
  {
   "cell_type": "code",
   "execution_count": 34,
   "id": "3d2427bb-3983-4970-ab74-1efbad738d32",
   "metadata": {},
   "outputs": [
    {
     "name": "stdout",
     "output_type": "stream",
     "text": [
      "[[1. 0. 0. 0. 0.]\n",
      " [0. 1. 0. 0. 0.]\n",
      " [0. 0. 1. 0. 0.]]\n"
     ]
    }
   ],
   "source": [
    "diag_array = np.eye(3,5) # 3x5 matrix with diagonal elemnets = 1\n",
    "print(diag_array)"
   ]
  },
  {
   "cell_type": "markdown",
   "id": "dc95fb75-501f-4374-9ce6-7d48db2ca231",
   "metadata": {},
   "source": [
    "# Array with values that are spaced linearly in a specified interval"
   ]
  },
  {
   "cell_type": "code",
   "execution_count": 55,
   "id": "27f2a17b-3e07-4bce-ac5e-48dbded33122",
   "metadata": {},
   "outputs": [
    {
     "name": "stdout",
     "output_type": "stream",
     "text": [
      "[ 0.   2.5  5.   7.5 10. ]\n"
     ]
    }
   ],
   "source": [
    "line_array = np.linspace(0,10, num = 5)\n",
    "print(line_array)"
   ]
  },
  {
   "cell_type": "code",
   "execution_count": null,
   "id": "9aaae5e6-45b5-4bf8-b643-7427c1deb8fe",
   "metadata": {},
   "outputs": [],
   "source": []
  }
 ],
 "metadata": {
  "kernelspec": {
   "display_name": "Python 3 (ipykernel)",
   "language": "python",
   "name": "python3"
  },
  "language_info": {
   "codemirror_mode": {
    "name": "ipython",
    "version": 3
   },
   "file_extension": ".py",
   "mimetype": "text/x-python",
   "name": "python",
   "nbconvert_exporter": "python",
   "pygments_lexer": "ipython3",
   "version": "3.12.4"
  }
 },
 "nbformat": 4,
 "nbformat_minor": 5
}
