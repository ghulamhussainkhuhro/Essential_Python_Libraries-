{
 "cells": [
  {
   "cell_type": "markdown",
   "id": "ad5c6969-c0b7-47cd-a7af-84c161aa57bd",
   "metadata": {},
   "source": [
    "# Arithmetic Functions in Numpy"
   ]
  },
  {
   "cell_type": "code",
   "execution_count": 2,
   "id": "b0c86d9b-0e7e-481d-8b2e-a4e456d0fc76",
   "metadata": {},
   "outputs": [],
   "source": [
    "import numpy as np"
   ]
  },
  {
   "cell_type": "code",
   "execution_count": 14,
   "id": "dfc1c0cc-dd8e-40f9-b7a7-3bb81319e1d6",
   "metadata": {},
   "outputs": [
    {
     "name": "stdout",
     "output_type": "stream",
     "text": [
      "Min : 1\n",
      "Max : 8\n",
      "Position Min : 5\n",
      "Position Max : 3\n"
     ]
    }
   ],
   "source": [
    "var = np.array([6,2,3,8,5,1,4,2])\n",
    "\n",
    "# Finding minimum and maximum\n",
    "print(\"Min :\",np.min(var))\n",
    "print(\"Max :\",np.max(var))\n",
    "\n",
    "# Finding position of minimum and maximum\n",
    "print(\"Position Min :\",np.argmin(var))\n",
    "print(\"Position Max :\",np.argmax(var))\n"
   ]
  },
  {
   "cell_type": "code",
   "execution_count": 26,
   "id": "4d4b7c9c-b6d2-4550-ba46-f546c35359d2",
   "metadata": {},
   "outputs": [
    {
     "name": "stdout",
     "output_type": "stream",
     "text": [
      "Min : 1\n",
      "Mins in rows: [1 5]\n",
      "Mins in columns : [2 1 3]\n"
     ]
    }
   ],
   "source": [
    "# We can also work along with the axes in multi-dimension arrays\n",
    "var1 = np.array([[2,1,3],[9,5,6]])\n",
    "\n",
    "# In all over array\n",
    "print(\"Min :\",np.min(var1))\n",
    "\n",
    "# In a particular axis (0 for columns and 1 for rows)\n",
    "\n",
    "# Since there are two rows so there will be 2 minimums\n",
    "print(\"Mins in rows:\",np.min(var1,axis = 1))\n",
    "# Since there are three columns so there will be 3 minimums\n",
    "print(\"Mins in columns :\",np.min(var1,axis = 0))\n"
   ]
  },
  {
   "cell_type": "code",
   "execution_count": 28,
   "id": "366ba8a2-5ce0-44a9-81b6-dd37dcca78c0",
   "metadata": {},
   "outputs": [
    {
     "name": "stdout",
     "output_type": "stream",
     "text": [
      "Square roots : [2.44948974 1.41421356 1.73205081 2.82842712 2.23606798 1.\n",
      " 2.         1.41421356]\n"
     ]
    }
   ],
   "source": [
    "var2 = np.array([6,2,3,8,5,1,4,2])\n",
    "\n",
    "print(\"Square roots :\",np.sqrt(var2))"
   ]
  },
  {
   "cell_type": "code",
   "execution_count": 40,
   "id": "178dd152-b168-4607-824c-bbba0c55b00f",
   "metadata": {},
   "outputs": [
    {
     "name": "stdout",
     "output_type": "stream",
     "text": [
      "Sin values : [-1.  0.  1.]\n",
      "Cos values : [-8.89803846e-05  1.00000000e+00 -3.67320510e-06]\n",
      "Tan values : [  11238.43194032       0.         -272241.80840928]\n"
     ]
    }
   ],
   "source": [
    "# We can also find trigonometric values \n",
    "\n",
    "var4 = np.array([4.7123, 0, 1.5708]) # value should be in radians\n",
    "\n",
    "print(\"Sin values :\",np.sin(var4))\n",
    "print(\"Cos values :\",np.cos(var4))\n",
    "print(\"Tan values :\",np.tan(var4))"
   ]
  },
  {
   "cell_type": "code",
   "execution_count": 44,
   "id": "fe13fbb5-9ddc-408e-90b8-32b7f99e188c",
   "metadata": {},
   "outputs": [
    {
     "name": "stdout",
     "output_type": "stream",
     "text": [
      "Cumulative Sum: [ 1  3  6 10]\n"
     ]
    }
   ],
   "source": [
    "#The cumulative sum, at each index, represents the sum of all elements up to that index (inclusive).\n",
    "var5 = np.array([1, 2, 3, 4])\n",
    "\n",
    "# Calculate the cumulative sum\n",
    "cumulative_sum = np.cumsum(var5)\n",
    "\n",
    "# Print the result with clear label\n",
    "print(\"Cumulative Sum:\", cumulative_sum)\n"
   ]
  },
  {
   "cell_type": "code",
   "execution_count": null,
   "id": "0aea54d1-82f2-4f5c-854e-2f2c9d229793",
   "metadata": {},
   "outputs": [],
   "source": []
  }
 ],
 "metadata": {
  "kernelspec": {
   "display_name": "Python 3 (ipykernel)",
   "language": "python",
   "name": "python3"
  },
  "language_info": {
   "codemirror_mode": {
    "name": "ipython",
    "version": 3
   },
   "file_extension": ".py",
   "mimetype": "text/x-python",
   "name": "python",
   "nbconvert_exporter": "python",
   "pygments_lexer": "ipython3",
   "version": "3.12.4"
  }
 },
 "nbformat": 4,
 "nbformat_minor": 5
}
