{
 "cells": [
  {
   "cell_type": "markdown",
   "id": "a11f72fc-81f5-478f-bcb6-0a902150bc4d",
   "metadata": {},
   "source": [
    "# Series in Pandas"
   ]
  },
  {
   "cell_type": "code",
   "execution_count": 2,
   "id": "93bf33e0-a6f7-41fc-bc0b-a64874d4c443",
   "metadata": {},
   "outputs": [],
   "source": [
    "# In pandas, a Series is a one-dimensional labeled array capable of holding data of \n",
    "# various types (integers, strings, floats, Python objects, etc.). \n",
    "# It's essentially a single column from a DataFrame, but with its own functionalities."
   ]
  },
  {
   "cell_type": "code",
   "execution_count": 4,
   "id": "6097db2f-1357-4d25-9ce9-f7dbb70c999c",
   "metadata": {},
   "outputs": [],
   "source": [
    "import pandas as pd"
   ]
  },
  {
   "cell_type": "code",
   "execution_count": 16,
   "id": "c53069f9-6bf4-472f-bc33-df1c5c3a4d4a",
   "metadata": {},
   "outputs": [
    {
     "name": "stdout",
     "output_type": "stream",
     "text": [
      "List : [1, 2, 3, 4, 5]\n",
      "Type : <class 'list'>\n",
      "Pandas Series : \n",
      "0    1\n",
      "1    2\n",
      "2    3\n",
      "3    4\n",
      "4    5\n",
      "dtype: int64\n",
      "Type : <class 'pandas.core.series.Series'>\n"
     ]
    }
   ],
   "source": [
    "l = [1, 2, 3, 4, 5]\n",
    "print(\"List :\",l)\n",
    "print(\"Type :\",type(l))\n",
    "\n",
    "# converting list int pandas series\n",
    "\n",
    "series = pd.Series(l)\n",
    "print(\"Pandas Series : \")\n",
    "print(series)\n",
    "print(\"Type :\",type(series))\n",
    "\n",
    "\n"
   ]
  },
  {
   "cell_type": "code",
   "execution_count": 18,
   "id": "1d40cfff-9254-4453-ab05-db890bd1c818",
   "metadata": {},
   "outputs": [
    {
     "name": "stdout",
     "output_type": "stream",
     "text": [
      "Element at index 2 is : 3\n",
      "Element at index 0 is : 1\n",
      "Element at index 4 is : 5\n",
      "Element at index 1 is : 2\n"
     ]
    }
   ],
   "source": [
    "# Getting elements via index\n",
    "print(\"Element at index 2 is :\",series[2])\n",
    "print(\"Element at index 0 is :\",series[0])\n",
    "print(\"Element at index 4 is :\",series[4])\n",
    "print(\"Element at index 1 is :\",series[1])"
   ]
  },
  {
   "cell_type": "code",
   "execution_count": 34,
   "id": "358f33a4-086c-4869-ac69-1ccdbaa5b773",
   "metadata": {},
   "outputs": [
    {
     "data": {
      "text/plain": [
       "a    1\n",
       "s    2\n",
       "d    3\n",
       "f    4\n",
       "j    5\n",
       "dtype: int64"
      ]
     },
     "execution_count": 34,
     "metadata": {},
     "output_type": "execute_result"
    }
   ],
   "source": [
    "# Modifying index of a series\n",
    "list = [1, 2, 3, 4, 5]\n",
    "var = pd.Series(list, index = ['a', 's', 'd', 'f', 'j'])\n",
    "var\n"
   ]
  },
  {
   "cell_type": "code",
   "execution_count": 36,
   "id": "47a531b6-fcf0-4fb6-96c7-df0e7c4becc8",
   "metadata": {},
   "outputs": [
    {
     "data": {
      "text/plain": [
       "a    1.0\n",
       "s    2.0\n",
       "d    3.0\n",
       "f    4.0\n",
       "j    5.0\n",
       "dtype: float64"
      ]
     },
     "execution_count": 36,
     "metadata": {},
     "output_type": "execute_result"
    }
   ],
   "source": [
    "# We can also change the data type\n",
    "var = pd.Series(list, index = ['a', 's', 'd', 'f', 'j'], dtype = \"float\")\n",
    "var\n"
   ]
  },
  {
   "cell_type": "code",
   "execution_count": 38,
   "id": "cf6acb17-c60f-4c5e-b0d0-d2ed56132f21",
   "metadata": {},
   "outputs": [
    {
     "data": {
      "text/plain": [
       "a    1.0\n",
       "s    2.0\n",
       "d    3.0\n",
       "f    4.0\n",
       "j    5.0\n",
       "Name: My Data, dtype: float64"
      ]
     },
     "execution_count": 38,
     "metadata": {},
     "output_type": "execute_result"
    }
   ],
   "source": [
    "# Naming the data \n",
    "# We can also change the data type\n",
    "var = pd.Series(list, index = ['a', 's', 'd', 'f', 'j'], dtype = \"float\", name = \"My Data\")\n",
    "var\n"
   ]
  },
  {
   "cell_type": "code",
   "execution_count": 44,
   "id": "55ba3682-5efb-4b3d-8177-c4688a1a2ed9",
   "metadata": {},
   "outputs": [
    {
     "name": "stdout",
     "output_type": "stream",
     "text": [
      "{'name': ['pyhton', 'c', 'c++', 'java'], 'pop': [12, 13, 14, 15], 'rank': [1, 4, 3, 2]}\n",
      "name    [pyhton, c, c++, java]\n",
      "pop           [12, 13, 14, 15]\n",
      "rank              [1, 4, 3, 2]\n",
      "dtype: object\n"
     ]
    }
   ],
   "source": [
    "# In above examples we have passed list but we can pass dictionaries, tuples as well\n",
    "\n",
    "dic = {\"name\":['pyhton', 'c', 'c++', 'java'], \"pop\":[12, 13, 14, 15], \"rank\":[1, 4, 3, 2]}\n",
    "print(dic)\n",
    "\n",
    "var1 = pd.Series(dic)\n",
    "print(var1)\n"
   ]
  },
  {
   "cell_type": "code",
   "execution_count": 46,
   "id": "7b8cec21-3efd-4a5b-98f1-4761ce0a4859",
   "metadata": {},
   "outputs": [
    {
     "name": "stdout",
     "output_type": "stream",
     "text": [
      "0    12\n",
      "dtype: int64\n",
      "Type : <class 'pandas.core.series.Series'>\n"
     ]
    }
   ],
   "source": [
    "# We can aslo make a pandas series of a single entity\n",
    "s = pd.Series(12)\n",
    "print(s)\n",
    "print(\"Type :\",type(s))"
   ]
  },
  {
   "cell_type": "code",
   "execution_count": 48,
   "id": "0dfc8445-9f1b-4002-872b-3b378db63009",
   "metadata": {},
   "outputs": [
    {
     "name": "stdout",
     "output_type": "stream",
     "text": [
      "1    12.0\n",
      "2    12.0\n",
      "3    12.0\n",
      "4    12.0\n",
      "5    12.0\n",
      "6    12.0\n",
      "7    12.0\n",
      "8    12.0\n",
      "dtype: float64\n"
     ]
    }
   ],
   "source": [
    "s = pd.Series(12, index = [1, 2, 3, 4, 5, 6, 7, 8], dtype = \"float\")\n",
    "print(s)"
   ]
  },
  {
   "cell_type": "code",
   "execution_count": 52,
   "id": "59de70b2-2ee5-40ac-933a-926cb952a416",
   "metadata": {},
   "outputs": [
    {
     "name": "stdout",
     "output_type": "stream",
     "text": [
      "1    24.0\n",
      "2    24.0\n",
      "3    24.0\n",
      "4    24.0\n",
      "5     NaN\n",
      "6     NaN\n",
      "7     NaN\n",
      "8     NaN\n",
      "dtype: float64\n"
     ]
    }
   ],
   "source": [
    "# Create two Series with different lengths\n",
    "s1 = pd.Series(12, index=[1, 2, 3, 4, 5, 6, 7, 8], dtype=\"float\")\n",
    "s2 = pd.Series(12, index=[1, 2, 3, 4], dtype=\"float\")\n",
    "\n",
    "# Add the Series\n",
    "print(s1 + s2)\n",
    "\n",
    "# Explanation\n",
    "# - In pandas, addition between Series automatically aligns the data based on the indices.\n",
    "#   - Missing values (indices not present in both Series) are filled with NaN (Not a Number).\n",
    "#   - This allows for addition even when Series have different lengths.\n",
    "\n",
    "# Try adding equivalent NumPy arrays (will cause an error)\n",
    "# Try converting the Series to NumPy arrays (causes an error)\n",
    "# np_s1 = s1.to_numpy()\n",
    "# np_s2 = s2.to_numpy()\n",
    "# print(np_s1 + np_s2)  # This line will result in a ValueError\n",
    "\n",
    "# Explanation (NumPy addition)\n",
    "# - NumPy requires arrays to have the same shape for addition.\n",
    "#   - Attempting to add arrays with different shapes results in a ValueError.\n"
   ]
  },
  {
   "cell_type": "code",
   "execution_count": null,
   "id": "e61a922b-22eb-4266-9bdb-bd4929ffc0c4",
   "metadata": {},
   "outputs": [],
   "source": []
  }
 ],
 "metadata": {
  "kernelspec": {
   "display_name": "Python 3 (ipykernel)",
   "language": "python",
   "name": "python3"
  },
  "language_info": {
   "codemirror_mode": {
    "name": "ipython",
    "version": 3
   },
   "file_extension": ".py",
   "mimetype": "text/x-python",
   "name": "python",
   "nbconvert_exporter": "python",
   "pygments_lexer": "ipython3",
   "version": "3.12.4"
  }
 },
 "nbformat": 4,
 "nbformat_minor": 5
}
