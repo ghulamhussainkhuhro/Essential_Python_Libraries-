{
 "cells": [
  {
   "cell_type": "markdown",
   "id": "c5b5dd58-5948-41a8-b77e-814bc0ce2d7e",
   "metadata": {},
   "source": [
    "# Pandas DataFrames"
   ]
  },
  {
   "cell_type": "code",
   "execution_count": 4,
   "id": "149dbeb3-581e-4d35-a99d-388909f3a22f",
   "metadata": {},
   "outputs": [],
   "source": [
    "import pandas as pd"
   ]
  },
  {
   "cell_type": "code",
   "execution_count": 5,
   "id": "c4c66c7e-6309-4670-90ef-5e1ee14cc19c",
   "metadata": {},
   "outputs": [
    {
     "name": "stdout",
     "output_type": "stream",
     "text": [
      "[1, 2, 3, 4, 5, 6]\n",
      "<class 'list'>\n",
      "   0\n",
      "0  1\n",
      "1  2\n",
      "2  3\n",
      "3  4\n",
      "4  5\n",
      "5  6\n",
      "<class 'pandas.core.frame.DataFrame'>\n"
     ]
    }
   ],
   "source": [
    "list  = [1, 2, 3, 4, 5, 6]\n",
    "# creating a dataframe and passing list\n",
    "print(list)\n",
    "print(type(list))\n",
    "\n",
    "df = pd.DataFrame(list)\n",
    "print(df)\n",
    "print(type(df))"
   ]
  },
  {
   "cell_type": "code",
   "execution_count": 6,
   "id": "1ca7866c-73e3-4b01-a135-062709770986",
   "metadata": {},
   "outputs": [
    {
     "name": "stdout",
     "output_type": "stream",
     "text": [
      "   a  b\n",
      "0  1  2\n",
      "1  2  4\n",
      "2  3  6\n",
      "3  4  8\n",
      "<class 'pandas.core.frame.DataFrame'>\n"
     ]
    }
   ],
   "source": [
    "dic = {\"a\":[1,2,3,4],\"b\":[2,4,6,8]} \n",
    "# If values in all keys of a dictionary are not same it will lead to a value error\n",
    "# ValueError: All arrays must be of the same length\n",
    "df1 = pd.DataFrame(dic)\n",
    "print(df1)\n",
    "print(type(df1))"
   ]
  },
  {
   "cell_type": "code",
   "execution_count": 7,
   "id": "92f8951f-9149-46a2-a00e-ca0ab8324400",
   "metadata": {},
   "outputs": [
    {
     "name": "stdout",
     "output_type": "stream",
     "text": [
      "     name  popularity  rank\n",
      "0  pyhton          12     1\n",
      "1       c          13     4\n",
      "2     c++          14     3\n",
      "3    java          15     2\n"
     ]
    }
   ],
   "source": [
    "dic = {\"name\":['pyhton', 'c', 'c++', 'java'], \"popularity\":[12, 13, 14, 15], \"rank\":[1, 4, 3, 2]}\n",
    "df2 = pd.DataFrame(dic)\n",
    "print(df2)"
   ]
  },
  {
   "cell_type": "code",
   "execution_count": 8,
   "id": "87a735fd-c865-43b9-9597-b77888a12bf0",
   "metadata": {},
   "outputs": [
    {
     "name": "stdout",
     "output_type": "stream",
     "text": [
      "   rank  popularity\n",
      "0     1          12\n",
      "1     4          13\n",
      "2     3          14\n",
      "3     2          15\n"
     ]
    }
   ],
   "source": [
    "# If our requirement is a particular column or columns then we can do so in given way\n",
    "dic = {\"name\":['pyhton', 'c', 'c++', 'java'], \"popularity\":[12, 13, 14, 15], \"rank\":[1, 4, 3, 2]}\n",
    "df2 = pd.DataFrame(dic, columns = [\"rank\", \"popularity\"])\n",
    "print(df2)"
   ]
  },
  {
   "cell_type": "code",
   "execution_count": 9,
   "id": "8a34944b-85a9-4b20-bbd7-f147cabed9da",
   "metadata": {},
   "outputs": [
    {
     "name": "stdout",
     "output_type": "stream",
     "text": [
      "     name  popularity  rank\n",
      "a  pyhton          12     1\n",
      "b       c          13     4\n",
      "c     c++          14     3\n",
      "d    java          15     2\n"
     ]
    }
   ],
   "source": [
    "# Modifying index in a dataframe\n",
    "dic = {\"name\":['pyhton', 'c', 'c++', 'java'], \"popularity\":[12, 13, 14, 15], \"rank\":[1, 4, 3, 2]}\n",
    "df2 = pd.DataFrame(dic, index = ['a', 'b', 'c', 'd'])\n",
    "print(df2)"
   ]
  },
  {
   "cell_type": "code",
   "execution_count": 10,
   "id": "df8cc8e1-23b4-4f1d-90a6-15d3173e7474",
   "metadata": {},
   "outputs": [
    {
     "name": "stdout",
     "output_type": "stream",
     "text": [
      "Element at row c column name is : c++\n"
     ]
    }
   ],
   "source": [
    "# To get a particular element\n",
    "print(\"Element at row c column name is :\",df2[\"name\"][\"c\"])"
   ]
  },
  {
   "cell_type": "code",
   "execution_count": 21,
   "id": "e78e88f4-64f2-4910-bbf0-68d7317a8474",
   "metadata": {},
   "outputs": [
    {
     "name": "stdout",
     "output_type": "stream",
     "text": [
      "   0  1  2  3\n",
      "0  1  2  3  4\n",
      "1  5  6  7  8\n"
     ]
    }
   ],
   "source": [
    "# Making a datafrane from list of lists\n",
    "\n",
    "list = [[1, 2, 3, 4],[5, 6, 7, 8]]\n",
    "\n",
    "df3 = pd.DataFrame(list)\n",
    "\n",
    "print(df3)"
   ]
  },
  {
   "cell_type": "code",
   "execution_count": 27,
   "id": "b4910fb3-2f65-44e7-b473-d245528d4378",
   "metadata": {},
   "outputs": [
    {
     "name": "stdout",
     "output_type": "stream",
     "text": [
      "{'s': 0    1\n",
      "1    2\n",
      "2    3\n",
      "3    4\n",
      "dtype: int64, 'r': 0    2\n",
      "1    4\n",
      "2    6\n",
      "3    8\n",
      "dtype: int64}\n",
      "<class 'dict'>\n",
      "   s  r\n",
      "0  1  2\n",
      "1  2  4\n",
      "2  3  6\n",
      "3  4  8\n",
      "<class 'pandas.core.frame.DataFrame'>\n"
     ]
    }
   ],
   "source": [
    "# We can make a single dataframe by combining two or more series\n",
    "\n",
    "sr = {\"s\":pd.Series([1, 2, 3, 4]), \"r\":pd.Series([2, 4, 6, 8])}\n",
    "\n",
    "print(sr)\n",
    "print(type(sr))\n",
    "\n",
    "var3 = pd.DataFrame(sr)\n",
    "\n",
    "print(var3)\n",
    "print(type(var3))"
   ]
  },
  {
   "cell_type": "code",
   "execution_count": null,
   "id": "7368cfe9-fd24-41d9-9d2c-d1f7622dbca6",
   "metadata": {},
   "outputs": [],
   "source": []
  },
  {
   "cell_type": "code",
   "execution_count": null,
   "id": "4fd26712-b9e4-4c0c-9427-11e734c3f15f",
   "metadata": {},
   "outputs": [],
   "source": []
  },
  {
   "cell_type": "code",
   "execution_count": null,
   "id": "64cd4a84-954b-4084-a342-33c5fbe3b766",
   "metadata": {},
   "outputs": [],
   "source": []
  },
  {
   "cell_type": "code",
   "execution_count": null,
   "id": "b7eba013-cfc9-4fd9-a27c-e7662d6cb1c6",
   "metadata": {},
   "outputs": [],
   "source": []
  }
 ],
 "metadata": {
  "kernelspec": {
   "display_name": "Python 3 (ipykernel)",
   "language": "python",
   "name": "python3"
  },
  "language_info": {
   "codemirror_mode": {
    "name": "ipython",
    "version": 3
   },
   "file_extension": ".py",
   "mimetype": "text/x-python",
   "name": "python",
   "nbconvert_exporter": "python",
   "pygments_lexer": "ipython3",
   "version": "3.12.4"
  }
 },
 "nbformat": 4,
 "nbformat_minor": 5
}
